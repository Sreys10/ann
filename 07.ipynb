{
  "nbformat": 4,
  "nbformat_minor": 0,
  "metadata": {
    "colab": {
      "provenance": []
    },
    "kernelspec": {
      "name": "python3",
      "display_name": "Python 3"
    },
    "language_info": {
      "name": "python"
    }
  },
  "cells": [
    {
      "cell_type": "code",
      "execution_count": null,
      "metadata": {
        "id": "w9z3RoI6g-e8"
      },
      "outputs": [],
      "source": [
        "import numpy as np\n",
        "from sklearn.datasets import load_iris\n",
        "from sklearn.model_selection import train_test_split\n",
        "from sklearn.preprocessing import OneHotEncoder, StandardScaler"
      ]
    },
    {
      "cell_type": "code",
      "source": [
        "# Activation functions\n",
        "def relu(x):\n",
        "    return np.maximum(0, x)\n",
        "\n",
        "def relu_derivative(x):\n",
        "    return (x > 0).astype(float)\n",
        "\n",
        "def softmax(x):\n",
        "    exp_vals = np.exp(x - np.max(x, axis=1, keepdims=True))  # stability\n",
        "    return exp_vals / np.sum(exp_vals, axis=1, keepdims=True)"
      ],
      "metadata": {
        "id": "8NKyD5aUhF9L"
      },
      "execution_count": null,
      "outputs": []
    },
    {
      "cell_type": "code",
      "source": [
        "def cross_entropy(y_true, y_pred):\n",
        "    return -np.mean(np.sum(y_true * np.log(y_pred + 1e-9), axis=1))\n",
        "\n",
        "def accuracy(y_true, y_pred):\n",
        "    return np.mean(np.argmax(y_true, axis=1) == np.argmax(y_pred, axis=1))"
      ],
      "metadata": {
        "id": "heTN5ZFAhdex"
      },
      "execution_count": null,
      "outputs": []
    },
    {
      "cell_type": "code",
      "source": [
        "iris = load_iris()\n",
        "X = iris.data\n",
        "y = iris.target.reshape(-1, 1)"
      ],
      "metadata": {
        "id": "OHHj3Wa3hg1v"
      },
      "execution_count": null,
      "outputs": []
    },
    {
      "cell_type": "code",
      "source": [
        "# One-hot encode output labels\n",
        "encoder = OneHotEncoder(sparse_output=False)\n",
        "y_encoded = encoder.fit_transform(y)"
      ],
      "metadata": {
        "id": "gJdK26tBhjz1"
      },
      "execution_count": null,
      "outputs": []
    },
    {
      "cell_type": "code",
      "source": [
        "# Normalize input features\n",
        "scaler = StandardScaler()\n",
        "X_scaled = scaler.fit_transform(X)"
      ],
      "metadata": {
        "id": "PPQborokhokq"
      },
      "execution_count": null,
      "outputs": []
    },
    {
      "cell_type": "code",
      "source": [
        "X_train, X_test, y_train, y_test = train_test_split(X_scaled, y_encoded, test_size=0.3, random_state=42)\n"
      ],
      "metadata": {
        "id": "UFrq79TVhqSS"
      },
      "execution_count": null,
      "outputs": []
    },
    {
      "cell_type": "code",
      "source": [
        "n_input = X_train.shape[1]  # 4 features\n",
        "n_hidden = 100              # as specified\n",
        "n_output = y_encoded.shape[1]  # 3 classes"
      ],
      "metadata": {
        "id": "ywZFo3qqhsNq"
      },
      "execution_count": null,
      "outputs": []
    },
    {
      "cell_type": "code",
      "source": [
        "# Weight initialization\n",
        "np.random.seed(42)\n",
        "W1 = np.random.randn(n_input, n_hidden) * np.sqrt(2. / n_input)\n",
        "b1 = np.zeros((1, n_hidden))\n",
        "\n",
        "W2 = np.random.randn(n_hidden, n_output) * np.sqrt(2. / n_hidden)\n",
        "b2 = np.zeros((1, n_output))"
      ],
      "metadata": {
        "id": "X67Alp3nhvrD"
      },
      "execution_count": null,
      "outputs": []
    },
    {
      "cell_type": "code",
      "source": [
        "epochs = 100\n",
        "lr = 0.01\n",
        "\n",
        "for epoch in range(epochs):\n",
        "    # Forward pass\n",
        "    z1 = np.dot(X_train, W1) + b1\n",
        "    a1 = relu(z1)\n",
        "\n",
        "    z2 = np.dot(a1, W2) + b2\n",
        "    a2 = softmax(z2)\n",
        "\n",
        "    # Compute loss and accuracy\n",
        "    loss = cross_entropy(y_train, a2)\n",
        "    acc = accuracy(y_train, a2)\n",
        "\n",
        "    # Backpropagation\n",
        "    dz2 = a2 - y_train\n",
        "    dW2 = np.dot(a1.T, dz2)\n",
        "    db2 = np.sum(dz2, axis=0, keepdims=True)\n",
        "\n",
        "    dz1 = np.dot(dz2, W2.T) * relu_derivative(a1)\n",
        "    dW1 = np.dot(X_train.T, dz1)\n",
        "    db1 = np.sum(dz1, axis=0, keepdims=True)\n",
        "\n",
        "    # Update weights\n",
        "    W2 -= lr * dW2\n",
        "    b2 -= lr * db2\n",
        "    W1 -= lr * dW1\n",
        "    b1 -= lr * db1\n",
        "\n",
        "    if epoch % 1 == 0:\n",
        "        print(f\"Epoch {epoch}: Loss={loss:.4f}, Accuracy={acc:.4f}\")"
      ],
      "metadata": {
        "colab": {
          "base_uri": "https://localhost:8080/"
        },
        "id": "9PLXO4PnhxfA",
        "outputId": "7946f9ae-07f9-4550-961e-4896a6e306f0"
      },
      "execution_count": null,
      "outputs": [
        {
          "output_type": "stream",
          "name": "stdout",
          "text": [
            "Epoch 0: Loss=2.1330, Accuracy=0.1619\n",
            "Epoch 1: Loss=2.2104, Accuracy=0.7238\n",
            "Epoch 2: Loss=0.7641, Accuracy=0.8667\n",
            "Epoch 3: Loss=0.4895, Accuracy=0.8667\n",
            "Epoch 4: Loss=0.3270, Accuracy=0.9143\n",
            "Epoch 5: Loss=0.2498, Accuracy=0.9048\n",
            "Epoch 6: Loss=0.2076, Accuracy=0.9238\n",
            "Epoch 7: Loss=0.2039, Accuracy=0.9238\n",
            "Epoch 8: Loss=0.2151, Accuracy=0.9333\n",
            "Epoch 9: Loss=0.3463, Accuracy=0.8952\n",
            "Epoch 10: Loss=0.3112, Accuracy=0.8857\n",
            "Epoch 11: Loss=0.5688, Accuracy=0.8286\n",
            "Epoch 12: Loss=0.2291, Accuracy=0.9238\n",
            "Epoch 13: Loss=0.1738, Accuracy=0.9333\n",
            "Epoch 14: Loss=0.1256, Accuracy=0.9429\n",
            "Epoch 15: Loss=0.1096, Accuracy=0.9714\n",
            "Epoch 16: Loss=0.1015, Accuracy=0.9333\n",
            "Epoch 17: Loss=0.0971, Accuracy=0.9714\n",
            "Epoch 18: Loss=0.0933, Accuracy=0.9429\n",
            "Epoch 19: Loss=0.0908, Accuracy=0.9714\n",
            "Epoch 20: Loss=0.0879, Accuracy=0.9524\n",
            "Epoch 21: Loss=0.0860, Accuracy=0.9714\n",
            "Epoch 22: Loss=0.0835, Accuracy=0.9524\n",
            "Epoch 23: Loss=0.0819, Accuracy=0.9810\n",
            "Epoch 24: Loss=0.0797, Accuracy=0.9714\n",
            "Epoch 25: Loss=0.0782, Accuracy=0.9810\n",
            "Epoch 26: Loss=0.0764, Accuracy=0.9714\n",
            "Epoch 27: Loss=0.0751, Accuracy=0.9810\n",
            "Epoch 28: Loss=0.0735, Accuracy=0.9714\n",
            "Epoch 29: Loss=0.0723, Accuracy=0.9810\n",
            "Epoch 30: Loss=0.0711, Accuracy=0.9714\n",
            "Epoch 31: Loss=0.0700, Accuracy=0.9810\n",
            "Epoch 32: Loss=0.0689, Accuracy=0.9714\n",
            "Epoch 33: Loss=0.0680, Accuracy=0.9810\n",
            "Epoch 34: Loss=0.0671, Accuracy=0.9714\n",
            "Epoch 35: Loss=0.0663, Accuracy=0.9810\n",
            "Epoch 36: Loss=0.0655, Accuracy=0.9714\n",
            "Epoch 37: Loss=0.0648, Accuracy=0.9810\n",
            "Epoch 38: Loss=0.0641, Accuracy=0.9714\n",
            "Epoch 39: Loss=0.0635, Accuracy=0.9714\n",
            "Epoch 40: Loss=0.0629, Accuracy=0.9714\n",
            "Epoch 41: Loss=0.0623, Accuracy=0.9714\n",
            "Epoch 42: Loss=0.0617, Accuracy=0.9714\n",
            "Epoch 43: Loss=0.0612, Accuracy=0.9714\n",
            "Epoch 44: Loss=0.0607, Accuracy=0.9714\n",
            "Epoch 45: Loss=0.0602, Accuracy=0.9714\n",
            "Epoch 46: Loss=0.0597, Accuracy=0.9714\n",
            "Epoch 47: Loss=0.0593, Accuracy=0.9714\n",
            "Epoch 48: Loss=0.0588, Accuracy=0.9714\n",
            "Epoch 49: Loss=0.0584, Accuracy=0.9714\n",
            "Epoch 50: Loss=0.0580, Accuracy=0.9714\n",
            "Epoch 51: Loss=0.0576, Accuracy=0.9714\n",
            "Epoch 52: Loss=0.0572, Accuracy=0.9714\n",
            "Epoch 53: Loss=0.0568, Accuracy=0.9714\n",
            "Epoch 54: Loss=0.0564, Accuracy=0.9810\n",
            "Epoch 55: Loss=0.0561, Accuracy=0.9810\n",
            "Epoch 56: Loss=0.0557, Accuracy=0.9810\n",
            "Epoch 57: Loss=0.0554, Accuracy=0.9810\n",
            "Epoch 58: Loss=0.0550, Accuracy=0.9810\n",
            "Epoch 59: Loss=0.0547, Accuracy=0.9810\n",
            "Epoch 60: Loss=0.0544, Accuracy=0.9810\n",
            "Epoch 61: Loss=0.0541, Accuracy=0.9810\n",
            "Epoch 62: Loss=0.0538, Accuracy=0.9810\n",
            "Epoch 63: Loss=0.0535, Accuracy=0.9810\n",
            "Epoch 64: Loss=0.0532, Accuracy=0.9810\n",
            "Epoch 65: Loss=0.0529, Accuracy=0.9810\n",
            "Epoch 66: Loss=0.0526, Accuracy=0.9810\n",
            "Epoch 67: Loss=0.0523, Accuracy=0.9810\n",
            "Epoch 68: Loss=0.0521, Accuracy=0.9810\n",
            "Epoch 69: Loss=0.0518, Accuracy=0.9810\n",
            "Epoch 70: Loss=0.0515, Accuracy=0.9810\n",
            "Epoch 71: Loss=0.0513, Accuracy=0.9810\n",
            "Epoch 72: Loss=0.0510, Accuracy=0.9810\n",
            "Epoch 73: Loss=0.0508, Accuracy=0.9810\n",
            "Epoch 74: Loss=0.0506, Accuracy=0.9810\n",
            "Epoch 75: Loss=0.0503, Accuracy=0.9810\n",
            "Epoch 76: Loss=0.0501, Accuracy=0.9810\n",
            "Epoch 77: Loss=0.0499, Accuracy=0.9810\n",
            "Epoch 78: Loss=0.0496, Accuracy=0.9810\n",
            "Epoch 79: Loss=0.0494, Accuracy=0.9810\n",
            "Epoch 80: Loss=0.0492, Accuracy=0.9810\n",
            "Epoch 81: Loss=0.0490, Accuracy=0.9810\n",
            "Epoch 82: Loss=0.0488, Accuracy=0.9810\n",
            "Epoch 83: Loss=0.0486, Accuracy=0.9810\n",
            "Epoch 84: Loss=0.0484, Accuracy=0.9810\n",
            "Epoch 85: Loss=0.0482, Accuracy=0.9810\n",
            "Epoch 86: Loss=0.0480, Accuracy=0.9810\n",
            "Epoch 87: Loss=0.0478, Accuracy=0.9810\n",
            "Epoch 88: Loss=0.0476, Accuracy=0.9810\n",
            "Epoch 89: Loss=0.0474, Accuracy=0.9810\n",
            "Epoch 90: Loss=0.0472, Accuracy=0.9810\n",
            "Epoch 91: Loss=0.0470, Accuracy=0.9810\n",
            "Epoch 92: Loss=0.0468, Accuracy=0.9810\n",
            "Epoch 93: Loss=0.0467, Accuracy=0.9810\n",
            "Epoch 94: Loss=0.0465, Accuracy=0.9810\n",
            "Epoch 95: Loss=0.0463, Accuracy=0.9810\n",
            "Epoch 96: Loss=0.0461, Accuracy=0.9810\n",
            "Epoch 97: Loss=0.0459, Accuracy=0.9810\n",
            "Epoch 98: Loss=0.0458, Accuracy=0.9810\n",
            "Epoch 99: Loss=0.0456, Accuracy=0.9810\n"
          ]
        }
      ]
    },
    {
      "cell_type": "code",
      "source": [
        "z1_test = np.dot(X_test, W1) + b1\n",
        "a1_test = relu(z1_test)\n",
        "\n",
        "z2_test = np.dot(a1_test, W2) + b2\n",
        "a2_test = softmax(z2_test)\n",
        "\n",
        "print(\"\\nFinal Test Accuracy:\", accuracy(y_test, a2_test))"
      ],
      "metadata": {
        "colab": {
          "base_uri": "https://localhost:8080/"
        },
        "id": "6t51W0SMhzGl",
        "outputId": "e1dae649-8ad5-416f-8615-fbae78f683cb"
      },
      "execution_count": null,
      "outputs": [
        {
          "output_type": "stream",
          "name": "stdout",
          "text": [
            "\n",
            "Final Test Accuracy: 1.0\n"
          ]
        }
      ]
    },
    {
      "cell_type": "code",
      "source": [],
      "metadata": {
        "id": "KZhXkb-Ch0mu"
      },
      "execution_count": null,
      "outputs": []
    },
    {
      "cell_type": "code",
      "source": [],
      "metadata": {
        "id": "BmTk--x4h5kL"
      },
      "execution_count": null,
      "outputs": []
    },
    {
      "cell_type": "code",
      "source": [],
      "metadata": {
        "id": "6sycvUjbh78_"
      },
      "execution_count": null,
      "outputs": []
    },
    {
      "cell_type": "code",
      "source": [],
      "metadata": {
        "id": "Bt_qhkzth9cF"
      },
      "execution_count": null,
      "outputs": []
    }
  ]
}