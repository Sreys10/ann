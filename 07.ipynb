{
  "nbformat": 4,
  "nbformat_minor": 0,
  "metadata": {
    "colab": {
      "provenance": [],
      "authorship_tag": "ABX9TyMUsozVK7Fn0neG9zGD2ogy",
      "include_colab_link": true
    },
    "kernelspec": {
      "name": "python3",
      "display_name": "Python 3"
    },
    "language_info": {
      "name": "python"
    }
  },
  "cells": [
    {
      "cell_type": "markdown",
      "metadata": {
        "id": "view-in-github",
        "colab_type": "text"
      },
      "source": [
        "<a href=\"https://colab.research.google.com/github/Sreys10/ann/blob/main/07.ipynb\" target=\"_parent\"><img src=\"https://colab.research.google.com/assets/colab-badge.svg\" alt=\"Open In Colab\"/></a>"
      ]
    },
    {
      "cell_type": "code",
      "execution_count": 1,
      "metadata": {
        "id": "w9z3RoI6g-e8"
      },
      "outputs": [],
      "source": [
        "import numpy as np\n",
        "from sklearn.datasets import load_iris\n",
        "from sklearn.model_selection import train_test_split\n",
        "from sklearn.preprocessing import OneHotEncoder, StandardScaler"
      ]
    },
    {
      "cell_type": "code",
      "source": [
        "# Activation functions\n",
        "def relu(x):\n",
        "    return np.maximum(0, x)\n",
        "\n",
        "def relu_derivative(x):\n",
        "    return (x > 0).astype(float)\n",
        "\n",
        "def softmax(x):\n",
        "    exp_vals = np.exp(x - np.max(x, axis=1, keepdims=True))  # stability\n",
        "    return exp_vals / np.sum(exp_vals, axis=1, keepdims=True)"
      ],
      "metadata": {
        "id": "8NKyD5aUhF9L"
      },
      "execution_count": 2,
      "outputs": []
    },
    {
      "cell_type": "code",
      "source": [
        "# Loss function\n",
        "def cross_entropy(y_true, y_pred):\n",
        "    n = y_true.shape[0]\n",
        "    return -np.sum(y_true * np.log(y_pred + 1e-9)) / n"
      ],
      "metadata": {
        "id": "heTN5ZFAhdex"
      },
      "execution_count": 3,
      "outputs": []
    },
    {
      "cell_type": "code",
      "source": [
        "def accuracy(y_true, y_pred):\n",
        "    return np.mean(np.argmax(y_true, axis=1) == np.argmax(y_pred, axis=1))"
      ],
      "metadata": {
        "id": "OHHj3Wa3hg1v"
      },
      "execution_count": 4,
      "outputs": []
    },
    {
      "cell_type": "code",
      "source": [
        "# Load Iris dataset\n",
        "iris = load_iris()\n",
        "X = iris.data[:, :3]  # Use only first 3 features\n",
        "y = iris.target.reshape(-1, 1)"
      ],
      "metadata": {
        "id": "gJdK26tBhjz1"
      },
      "execution_count": 5,
      "outputs": []
    },
    {
      "cell_type": "code",
      "source": [
        "# One-hot encode the labels\n",
        "encoder = OneHotEncoder(sparse_output=False)\n",
        "y_encoded = encoder.fit_transform(y)"
      ],
      "metadata": {
        "id": "PPQborokhokq"
      },
      "execution_count": 6,
      "outputs": []
    },
    {
      "cell_type": "code",
      "source": [
        "# Normalize features\n",
        "scaler = StandardScaler()\n",
        "X = scaler.fit_transform(X)"
      ],
      "metadata": {
        "id": "UFrq79TVhqSS"
      },
      "execution_count": 7,
      "outputs": []
    },
    {
      "cell_type": "code",
      "source": [
        "# Train/test split\n",
        "X_train, X_test, y_train, y_test = train_test_split(X, y_encoded, test_size=0.3, random_state=42)"
      ],
      "metadata": {
        "id": "ywZFo3qqhsNq"
      },
      "execution_count": 8,
      "outputs": []
    },
    {
      "cell_type": "code",
      "source": [
        "\n",
        "# Initialize architecture\n",
        "np.random.seed(42)\n",
        "n_input = X.shape[1]         # 3 features\n",
        "n_hidden = 5\n",
        "n_output = 3                 # 3 classes"
      ],
      "metadata": {
        "id": "X67Alp3nhvrD"
      },
      "execution_count": 9,
      "outputs": []
    },
    {
      "cell_type": "code",
      "source": [
        "# Weights and biases\n",
        "W1 = np.random.randn(n_input, n_hidden) * 0.1\n",
        "b1 = np.zeros((1, n_hidden))\n",
        "W2 = np.random.randn(n_hidden, n_output) * 0.1\n",
        "b2 = np.zeros((1, n_output))"
      ],
      "metadata": {
        "id": "9PLXO4PnhxfA"
      },
      "execution_count": 10,
      "outputs": []
    },
    {
      "cell_type": "code",
      "source": [
        "\n",
        "# Training loop\n",
        "epochs = 100\n",
        "lr = 0.05"
      ],
      "metadata": {
        "id": "6t51W0SMhzGl"
      },
      "execution_count": 15,
      "outputs": []
    },
    {
      "cell_type": "code",
      "source": [
        "for epoch in range(epochs):\n",
        "    # Forward pass\n",
        "    z1 = np.dot(X_train, W1) + b1\n",
        "    a1 = relu(z1)\n",
        "    z2 = np.dot(a1, W2) + b2\n",
        "    a2 = softmax(z2)\n",
        "\n",
        "    # Loss and accuracy\n",
        "    loss = cross_entropy(y_train, a2)\n",
        "    acc = accuracy(y_train, a2)\n",
        "\n",
        "    # Backpropagation\n",
        "    dz2 = a2 - y_train\n",
        "    dW2 = np.dot(a1.T, dz2)\n",
        "    db2 = np.sum(dz2, axis=0, keepdims=True)\n",
        "\n",
        "    dz1 = np.dot(dz2, W2.T) * relu_derivative(a1)\n",
        "    dW1 = np.dot(X_train.T, dz1)\n",
        "    db1 = np.sum(dz1, axis=0, keepdims=True)\n",
        "\n",
        "    # Gradient descent update\n",
        "    W2 -= lr * dW2\n",
        "    b2 -= lr * db2\n",
        "    W1 -= lr * dW1\n",
        "    b1 -= lr * db1\n",
        "\n",
        "    if epoch % 1 == 0:\n",
        "        print(f\"Epoch {epoch}: Loss = {loss:.4f}, Accuracy = {acc:.4f}\")\n"
      ],
      "metadata": {
        "colab": {
          "base_uri": "https://localhost:8080/"
        },
        "id": "KZhXkb-Ch0mu",
        "outputId": "969b23c3-8431-46dd-f9b1-cf08194a33d5"
      },
      "execution_count": 16,
      "outputs": [
        {
          "output_type": "stream",
          "name": "stdout",
          "text": [
            "Epoch 0: Loss = 0.0929, Accuracy = 0.9619\n",
            "Epoch 1: Loss = 0.0929, Accuracy = 0.9619\n",
            "Epoch 2: Loss = 0.0929, Accuracy = 0.9619\n",
            "Epoch 3: Loss = 0.0929, Accuracy = 0.9619\n",
            "Epoch 4: Loss = 0.0929, Accuracy = 0.9619\n",
            "Epoch 5: Loss = 0.0929, Accuracy = 0.9619\n",
            "Epoch 6: Loss = 0.0929, Accuracy = 0.9619\n",
            "Epoch 7: Loss = 0.0929, Accuracy = 0.9619\n",
            "Epoch 8: Loss = 0.0929, Accuracy = 0.9619\n",
            "Epoch 9: Loss = 0.0929, Accuracy = 0.9619\n",
            "Epoch 10: Loss = 0.0929, Accuracy = 0.9619\n",
            "Epoch 11: Loss = 0.0929, Accuracy = 0.9619\n",
            "Epoch 12: Loss = 0.0929, Accuracy = 0.9619\n",
            "Epoch 13: Loss = 0.0929, Accuracy = 0.9619\n",
            "Epoch 14: Loss = 0.0929, Accuracy = 0.9619\n",
            "Epoch 15: Loss = 0.0929, Accuracy = 0.9619\n",
            "Epoch 16: Loss = 0.0929, Accuracy = 0.9619\n",
            "Epoch 17: Loss = 0.0929, Accuracy = 0.9619\n",
            "Epoch 18: Loss = 0.0929, Accuracy = 0.9619\n",
            "Epoch 19: Loss = 0.0929, Accuracy = 0.9619\n",
            "Epoch 20: Loss = 0.0929, Accuracy = 0.9619\n",
            "Epoch 21: Loss = 0.0929, Accuracy = 0.9619\n",
            "Epoch 22: Loss = 0.0929, Accuracy = 0.9619\n",
            "Epoch 23: Loss = 0.0929, Accuracy = 0.9619\n",
            "Epoch 24: Loss = 0.0929, Accuracy = 0.9619\n",
            "Epoch 25: Loss = 0.0929, Accuracy = 0.9619\n",
            "Epoch 26: Loss = 0.0929, Accuracy = 0.9619\n",
            "Epoch 27: Loss = 0.0929, Accuracy = 0.9619\n",
            "Epoch 28: Loss = 0.0929, Accuracy = 0.9619\n",
            "Epoch 29: Loss = 0.0929, Accuracy = 0.9619\n",
            "Epoch 30: Loss = 0.0929, Accuracy = 0.9619\n",
            "Epoch 31: Loss = 0.0929, Accuracy = 0.9619\n",
            "Epoch 32: Loss = 0.0929, Accuracy = 0.9619\n",
            "Epoch 33: Loss = 0.0929, Accuracy = 0.9619\n",
            "Epoch 34: Loss = 0.0929, Accuracy = 0.9619\n",
            "Epoch 35: Loss = 0.0929, Accuracy = 0.9619\n",
            "Epoch 36: Loss = 0.0929, Accuracy = 0.9619\n",
            "Epoch 37: Loss = 0.0929, Accuracy = 0.9619\n",
            "Epoch 38: Loss = 0.0929, Accuracy = 0.9619\n",
            "Epoch 39: Loss = 0.0929, Accuracy = 0.9619\n",
            "Epoch 40: Loss = 0.0929, Accuracy = 0.9619\n",
            "Epoch 41: Loss = 0.0929, Accuracy = 0.9619\n",
            "Epoch 42: Loss = 0.0929, Accuracy = 0.9619\n",
            "Epoch 43: Loss = 0.0929, Accuracy = 0.9619\n",
            "Epoch 44: Loss = 0.0929, Accuracy = 0.9619\n",
            "Epoch 45: Loss = 0.0929, Accuracy = 0.9619\n",
            "Epoch 46: Loss = 0.0929, Accuracy = 0.9619\n",
            "Epoch 47: Loss = 0.0929, Accuracy = 0.9619\n",
            "Epoch 48: Loss = 0.0929, Accuracy = 0.9619\n",
            "Epoch 49: Loss = 0.0929, Accuracy = 0.9619\n",
            "Epoch 50: Loss = 0.0929, Accuracy = 0.9619\n",
            "Epoch 51: Loss = 0.0929, Accuracy = 0.9619\n",
            "Epoch 52: Loss = 0.0929, Accuracy = 0.9619\n",
            "Epoch 53: Loss = 0.0929, Accuracy = 0.9619\n",
            "Epoch 54: Loss = 0.0929, Accuracy = 0.9619\n",
            "Epoch 55: Loss = 0.0929, Accuracy = 0.9619\n",
            "Epoch 56: Loss = 0.0929, Accuracy = 0.9619\n",
            "Epoch 57: Loss = 0.0929, Accuracy = 0.9619\n",
            "Epoch 58: Loss = 0.0929, Accuracy = 0.9619\n",
            "Epoch 59: Loss = 0.0929, Accuracy = 0.9619\n",
            "Epoch 60: Loss = 0.0929, Accuracy = 0.9619\n",
            "Epoch 61: Loss = 0.0929, Accuracy = 0.9619\n",
            "Epoch 62: Loss = 0.0929, Accuracy = 0.9619\n",
            "Epoch 63: Loss = 0.0929, Accuracy = 0.9619\n",
            "Epoch 64: Loss = 0.0929, Accuracy = 0.9619\n",
            "Epoch 65: Loss = 0.0929, Accuracy = 0.9619\n",
            "Epoch 66: Loss = 0.0929, Accuracy = 0.9619\n",
            "Epoch 67: Loss = 0.0929, Accuracy = 0.9619\n",
            "Epoch 68: Loss = 0.0929, Accuracy = 0.9619\n",
            "Epoch 69: Loss = 0.0929, Accuracy = 0.9619\n",
            "Epoch 70: Loss = 0.0929, Accuracy = 0.9619\n",
            "Epoch 71: Loss = 0.0929, Accuracy = 0.9619\n",
            "Epoch 72: Loss = 0.0929, Accuracy = 0.9619\n",
            "Epoch 73: Loss = 0.0929, Accuracy = 0.9619\n",
            "Epoch 74: Loss = 0.0929, Accuracy = 0.9619\n",
            "Epoch 75: Loss = 0.0929, Accuracy = 0.9619\n",
            "Epoch 76: Loss = 0.0929, Accuracy = 0.9619\n",
            "Epoch 77: Loss = 0.0929, Accuracy = 0.9619\n",
            "Epoch 78: Loss = 0.0929, Accuracy = 0.9619\n",
            "Epoch 79: Loss = 0.0929, Accuracy = 0.9619\n",
            "Epoch 80: Loss = 0.0929, Accuracy = 0.9619\n",
            "Epoch 81: Loss = 0.0929, Accuracy = 0.9619\n",
            "Epoch 82: Loss = 0.0929, Accuracy = 0.9619\n",
            "Epoch 83: Loss = 0.0929, Accuracy = 0.9619\n",
            "Epoch 84: Loss = 0.0929, Accuracy = 0.9619\n",
            "Epoch 85: Loss = 0.0929, Accuracy = 0.9619\n",
            "Epoch 86: Loss = 0.0929, Accuracy = 0.9619\n",
            "Epoch 87: Loss = 0.0929, Accuracy = 0.9619\n",
            "Epoch 88: Loss = 0.0929, Accuracy = 0.9619\n",
            "Epoch 89: Loss = 0.0929, Accuracy = 0.9619\n",
            "Epoch 90: Loss = 0.0929, Accuracy = 0.9619\n",
            "Epoch 91: Loss = 0.0929, Accuracy = 0.9619\n",
            "Epoch 92: Loss = 0.0929, Accuracy = 0.9619\n",
            "Epoch 93: Loss = 0.0929, Accuracy = 0.9619\n",
            "Epoch 94: Loss = 0.0929, Accuracy = 0.9619\n",
            "Epoch 95: Loss = 0.0929, Accuracy = 0.9619\n",
            "Epoch 96: Loss = 0.0929, Accuracy = 0.9619\n",
            "Epoch 97: Loss = 0.0929, Accuracy = 0.9619\n",
            "Epoch 98: Loss = 0.0929, Accuracy = 0.9619\n",
            "Epoch 99: Loss = 0.0929, Accuracy = 0.9619\n"
          ]
        }
      ]
    },
    {
      "cell_type": "code",
      "source": [
        "# Test accuracy\n",
        "z1_test = np.dot(X_test, W1) + b1\n",
        "a1_test = relu(z1_test)\n",
        "z2_test = np.dot(a1_test, W2) + b2\n",
        "a2_test = softmax(z2_test)"
      ],
      "metadata": {
        "id": "BmTk--x4h5kL"
      },
      "execution_count": 17,
      "outputs": []
    },
    {
      "cell_type": "code",
      "source": [
        "print(\"\\nTest Accuracy:\", accuracy(y_test, a2_test))\n"
      ],
      "metadata": {
        "colab": {
          "base_uri": "https://localhost:8080/"
        },
        "id": "6sycvUjbh78_",
        "outputId": "a49bd3b1-e9ff-44e1-be44-02bc5ff0fcf5"
      },
      "execution_count": 18,
      "outputs": [
        {
          "output_type": "stream",
          "name": "stdout",
          "text": [
            "\n",
            "Test Accuracy: 0.9777777777777777\n"
          ]
        }
      ]
    },
    {
      "cell_type": "code",
      "source": [],
      "metadata": {
        "id": "Bt_qhkzth9cF"
      },
      "execution_count": null,
      "outputs": []
    }
  ]
}